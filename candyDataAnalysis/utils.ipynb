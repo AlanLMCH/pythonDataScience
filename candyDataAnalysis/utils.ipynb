{
 "cells": [
  {
   "cell_type": "code",
   "execution_count": null,
   "id": "15b59724-e6ee-4b89-b31c-28ef2bb641bf",
   "metadata": {},
   "outputs": [],
   "source": [
    "class Utils:\n",
    "    \n",
    "    def load_from_csv(self, path):\n",
    "        return pd.read_csv(path)\n",
    "    def load_from_mysql(self):\n",
    "        pass\n",
    "    def features_target(self, dataset, drop_cols, y):\n",
    "        x = dataset.drop(drop_cols, axis=1)\n",
    "        y = dataset[y]\n",
    "        \n",
    "        return x, y"
   ]
  }
 ],
 "metadata": {
  "kernelspec": {
   "display_name": "scikikernel",
   "language": "python",
   "name": "scikikernel"
  },
  "language_info": {
   "codemirror_mode": {
    "name": "ipython",
    "version": 3
   },
   "file_extension": ".py",
   "mimetype": "text/x-python",
   "name": "python",
   "nbconvert_exporter": "python",
   "pygments_lexer": "ipython3",
   "version": "3.10.9"
  }
 },
 "nbformat": 4,
 "nbformat_minor": 5
}
