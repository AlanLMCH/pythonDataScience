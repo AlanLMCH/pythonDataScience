{
 "cells": [
  {
   "cell_type": "markdown",
   "id": "f88f33a3-3604-4108-ab44-b30203b0db04",
   "metadata": {},
   "source": []
  },
  {
   "cell_type": "code",
   "execution_count": 4,
   "id": "4770eaec-60f1-4f63-8429-7b0ec3f0a76d",
   "metadata": {},
   "outputs": [
    {
     "name": "stdout",
     "output_type": "stream",
     "text": [
      "       country  rank  score      high       low       gdp    family    lifexp  \\\n",
      "0       Norway     1  7.537  7.594445  7.479556  1.616463  1.533524  0.796667   \n",
      "1      Denmark     2  7.522  7.581728  7.462272  1.482383  1.551122  0.792566   \n",
      "2      Iceland     3  7.504  7.622030  7.385970  1.480633  1.610574  0.833552   \n",
      "3  Switzerland     4  7.494  7.561772  7.426227  1.564980  1.516912  0.858131   \n",
      "4      Finland     5  7.469  7.527542  7.410458  1.443572  1.540247  0.809158   \n",
      "\n",
      "    freedom  generosity  corruption  dystopia  \n",
      "0  0.635423    0.362012    0.315964  2.277027  \n",
      "1  0.626007    0.355280    0.400770  2.313707  \n",
      "2  0.627163    0.475540    0.153527  2.322715  \n",
      "3  0.620071    0.290549    0.367007  2.276716  \n",
      "4  0.617951    0.245483    0.382612  2.430182  \n",
      "    country  rank  score  high  low  gdp  family  lifexp  freedom  generosity  \\\n",
      "162       H   163    0.0   0.0  0.0  0.0     0.0     0.0      0.0         0.0   \n",
      "163       I   164    0.0   0.0  0.0  0.0     0.0     0.0      0.0         0.0   \n",
      "164       J   165    0.0   0.0  0.0  0.0     0.0     0.0      0.0         0.0   \n",
      "165       K   166    0.0   0.0  0.0  0.0     0.0     0.0      0.0         0.0   \n",
      "166       L   167    0.0   0.0  0.0  0.0     0.0     0.0      0.0         0.0   \n",
      "\n",
      "     corruption  dystopia  \n",
      "162         0.0       0.0  \n",
      "163         0.0       0.0  \n",
      "164         0.0       0.0  \n",
      "165         0.0       0.0  \n",
      "166         0.0       0.0  \n"
     ]
    }
   ],
   "source": [
    "import pandas as pd\n",
    "import numpy as np\n",
    "import matplotlib.pyplot as plt\n",
    "\n",
    "from sklearn.linear_model import(\n",
    "    RANSACRegressor, HuberRegressor\n",
    ")\n",
    "\n",
    "from sklearn.svm import SVR\n",
    "\n",
    "from sklearn.model_selection import train_test_split\n",
    "from sklearn.metrics import mean_squared_error\n",
    "\n",
    "if __name__ == \"__main__\":\n",
    "    dataset = pd.read_csv(\"../data/rawData/felicidad_corrupt.csv\")\n",
    "    print(dataset.head())\n",
    "    print(dataset.tail())"
   ]
  },
  {
   "cell_type": "code",
   "execution_count": 5,
   "id": "d2483b49-0fb9-4fcb-83e5-5361617bf478",
   "metadata": {},
   "outputs": [],
   "source": [
    "x = dataset.drop(['country', 'score'], axis=1)\n",
    "y = dataset[['score']]"
   ]
  },
  {
   "cell_type": "code",
   "execution_count": 6,
   "id": "85d8058b-8a9e-466a-b8f2-e0caa013df65",
   "metadata": {},
   "outputs": [],
   "source": [
    "x_train, x_test, y_train, y_test = train_test_split(x, y, test_size = 0.3, random_state=42)"
   ]
  },
  {
   "cell_type": "code",
   "execution_count": 7,
   "id": "daea9b7c-5587-4d93-98ef-cfe01efc9e98",
   "metadata": {},
   "outputs": [],
   "source": [
    "estimadores = {\n",
    "    'SVR': SVR(gamma = 'auto', C=1.0, epsilon =0.1),\n",
    "    'RANSAC': RANSACRegressor(),\n",
    "    'HUBER': HuberRegressor(epsilon=1.35)\n",
    "}"
   ]
  },
  {
   "cell_type": "code",
   "execution_count": 9,
   "id": "9529f9a7-f822-4b6b-87f8-bc95888d2079",
   "metadata": {},
   "outputs": [
    {
     "name": "stdout",
     "output_type": "stream",
     "text": [
      "SVR\n",
      "MSE:  0.07455771301888524\n",
      "RANSAC\n",
      "MSE:  1.2756396402876074e-19\n",
      "HUBER\n",
      "MSE:  8.096603612625486e-07\n"
     ]
    },
    {
     "name": "stderr",
     "output_type": "stream",
     "text": [
      "C:\\Users\\alan_\\miniconda3\\envs\\py3-scikilearn\\lib\\site-packages\\sklearn\\utils\\validation.py:1143: DataConversionWarning: A column-vector y was passed when a 1d array was expected. Please change the shape of y to (n_samples, ), for example using ravel().\n",
      "  y = column_or_1d(y, warn=True)\n",
      "C:\\Users\\alan_\\miniconda3\\envs\\py3-scikilearn\\lib\\site-packages\\sklearn\\utils\\validation.py:1143: DataConversionWarning: A column-vector y was passed when a 1d array was expected. Please change the shape of y to (n_samples, ), for example using ravel().\n",
      "  y = column_or_1d(y, warn=True)\n",
      "C:\\Users\\alan_\\miniconda3\\envs\\py3-scikilearn\\lib\\site-packages\\sklearn\\linear_model\\_huber.py:342: ConvergenceWarning: lbfgs failed to converge (status=1):\n",
      "STOP: TOTAL NO. of ITERATIONS REACHED LIMIT.\n",
      "\n",
      "Increase the number of iterations (max_iter) or scale the data as shown in:\n",
      "    https://scikit-learn.org/stable/modules/preprocessing.html\n",
      "  self.n_iter_ = _check_optimize_result(\"lbfgs\", opt_res, self.max_iter)\n"
     ]
    }
   ],
   "source": [
    "for name, estimador in estimadores.items():\n",
    "    estimador.fit(x_train, y_train)\n",
    "    predictions = estimador.predict(x_test)\n",
    "    \n",
    "    print(name)\n",
    "    print('MSE: ', mean_squared_error(y_test, predictions))"
   ]
  },
  {
   "cell_type": "code",
   "execution_count": null,
   "id": "17fd0232-26c4-40b0-94c9-b64e4a198b07",
   "metadata": {},
   "outputs": [],
   "source": []
  }
 ],
 "metadata": {
  "kernelspec": {
   "display_name": "scikikernel",
   "language": "python",
   "name": "scikikernel"
  },
  "language_info": {
   "codemirror_mode": {
    "name": "ipython",
    "version": 3
   },
   "file_extension": ".py",
   "mimetype": "text/x-python",
   "name": "python",
   "nbconvert_exporter": "python",
   "pygments_lexer": "ipython3",
   "version": "3.10.9"
  }
 },
 "nbformat": 4,
 "nbformat_minor": 5
}
