{
 "cells": [
  {
   "cell_type": "code",
   "execution_count": 1,
   "id": "dd829916-a818-481f-82e8-9660d241b6f1",
   "metadata": {},
   "outputs": [],
   "source": [
    "import pandas as pd\n",
    "import numpy as np\n",
    "\n",
    "from sklearn.svm import SVR\n",
    "from sklearn.ensemble import GradientBoostingRegressor\n",
    "from sklearn.model_selection import GridSearchCV\n",
    "\n",
    "from utils import Utils"
   ]
  },
  {
   "cell_type": "code",
   "execution_count": 3,
   "id": "d4fa6e90-3001-43ec-9090-dbddbe407d88",
   "metadata": {},
   "outputs": [],
   "source": [
    "class Models:\n",
    "    \n",
    "    def __init__(self):\n",
    "        self.reg = {\n",
    "            'SVR': SVR(),\n",
    "            'GRADIENT': GradientBoostingRegressor()\n",
    "        }\n",
    "        \n",
    "        self.params = {\n",
    "            'SVR': {\n",
    "                'kernel': ['lineal', 'poly', 'rbf'],\n",
    "                'gamma': ['auto', 'scale'],\n",
    "                'C': [1, 5, 10]\n",
    "            },\n",
    "            'GRADIENT': {\n",
    "                'loss': ['ls', 'lad'],\n",
    "                'learning_rate': [0.01, 0.05, 0.1]\n",
    "            }\n",
    "        }\n",
    "        \n",
    "    def grid_training(self, x, y):\n",
    "        \n",
    "        best_score = 999\n",
    "        best_model = None\n",
    "        \n",
    "        for name, reg in self.reg.items():\n",
    "            \n",
    "            grid_reg = GridSearchCV(reg, self.params[name], cv=3).fit(x, y.values.ravel())\n",
    "            score = np.abs(grid_reg.best_score_)\n",
    "            \n",
    "            if score < best_score:\n",
    "                best_score = score\n",
    "                best_model = grid_reg.best_estimator_\n",
    "                \n",
    "        utils = Utils()\n",
    "        utils.model_export(best_model, best_score)"
   ]
  },
  {
   "cell_type": "code",
   "execution_count": null,
   "id": "4e5bd7e4-bcad-49be-8480-a78b21129773",
   "metadata": {},
   "outputs": [],
   "source": []
  }
 ],
 "metadata": {
  "kernelspec": {
   "display_name": "scikikernel",
   "language": "python",
   "name": "scikikernel"
  },
  "language_info": {
   "codemirror_mode": {
    "name": "ipython",
    "version": 3
   },
   "file_extension": ".py",
   "mimetype": "text/x-python",
   "name": "python",
   "nbconvert_exporter": "python",
   "pygments_lexer": "ipython3",
   "version": "3.10.9"
  }
 },
 "nbformat": 4,
 "nbformat_minor": 5
}
