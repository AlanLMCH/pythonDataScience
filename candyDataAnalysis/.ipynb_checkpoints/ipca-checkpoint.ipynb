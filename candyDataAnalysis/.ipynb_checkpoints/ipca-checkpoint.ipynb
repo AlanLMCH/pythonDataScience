{
 "cells": [
  {
   "cell_type": "code",
   "execution_count": 13,
   "id": "4ff47bbb-5b88-4a2c-9288-922168194109",
   "metadata": {},
   "outputs": [],
   "source": [
    "import pandas as pd\n",
    "import numpy as np\n",
    "import sklearn\n",
    "import matplotlib.pyplot as plt\n",
    "from sklearn.decomposition import KernelPCA\n",
    "\n",
    " \n",
    "from sklearn.linear_model import LogisticRegression\n",
    " \n",
    "from sklearn.preprocessing import StandardScaler\n",
    "from sklearn.model_selection import train_test_split"
   ]
  },
  {
   "cell_type": "code",
   "execution_count": 14,
   "id": "a8ff6ed7-4fd5-460b-9cd7-7ff609d8e3ed",
   "metadata": {},
   "outputs": [
    {
     "name": "stdout",
     "output_type": "stream",
     "text": [
      "   age  sex  cp  trestbps  chol  fbs  restecg  thalach  exang  oldpeak  slope  \\\n",
      "0   52    1   0       125   212    0        1      168      0      1.0      2   \n",
      "1   53    1   0       140   203    1        0      155      1      3.1      0   \n",
      "2   70    1   0       145   174    0        1      125      1      2.6      0   \n",
      "3   61    1   0       148   203    0        1      161      0      0.0      2   \n",
      "4   62    0   0       138   294    1        1      106      0      1.9      1   \n",
      "\n",
      "   ca  thal  target  \n",
      "0   2     3       0  \n",
      "1   0     3       0  \n",
      "2   0     3       0  \n",
      "3   1     3       0  \n",
      "4   3     2       0  \n"
     ]
    }
   ],
   "source": [
    "if __name__ == \"__main__\":\n",
    " \n",
    "   dt_heart = pd.read_csv('./data/rawData/heart.csv')\n",
    " \n",
    "   print(dt_heart.head(5))\n",
    " \n",
    "   dt_features = dt_heart.drop(['target'], axis=1)\n",
    "    \n",
    "   dt_target = dt_heart['target']\n",
    " \n",
    "   dt_features = StandardScaler().fit_transform(dt_features)\n",
    "  \n",
    "   X_train, X_test, y_train, y_test = train_test_split(dt_features, dt_target, test_size=0.3, random_state=42)"
   ]
  },
  {
   "cell_type": "code",
   "execution_count": 3,
   "id": "88e1d718-aebd-47a8-a70c-a7c049551f9d",
   "metadata": {},
   "outputs": [
    {
     "name": "stdout",
     "output_type": "stream",
     "text": [
      "(717, 13)\n",
      "(717,)\n"
     ]
    }
   ],
   "source": [
    "print(X_train.shape)\n",
    "print(y_train.shape)"
   ]
  },
  {
   "cell_type": "code",
   "execution_count": 18,
   "id": "7c93fe33-2cac-40bf-b086-2dd7f178c6e2",
   "metadata": {},
   "outputs": [
    {
     "data": {
      "text/plain": [
       "'\\nThe commented section bellow is used for a ipca\\n\\nn_components = min(n_muestras, n_features)\\npca = PCA(n_components = 3)\\npca.fit(X_train)\\n\\nipca = IncrementalPCA(n_components=3, batch_size=10)\\nipca.fit(X_train)\\n\\nplt.plot(range(len(pca.explained_variance_)), pca.explained_variance_ratio_)\\nplt.show()\\n'"
      ]
     },
     "execution_count": 18,
     "metadata": {},
     "output_type": "execute_result"
    }
   ],
   "source": [
    "\"\"\"\n",
    "The commented section bellow is used for a ipca\n",
    "\n",
    "n_components = min(n_muestras, n_features)\n",
    "pca = PCA(n_components = 3)\n",
    "pca.fit(X_train)\n",
    "\n",
    "ipca = IncrementalPCA(n_components=3, batch_size=10)\n",
    "ipca.fit(X_train)\n",
    "\n",
    "plt.plot(range(len(pca.explained_variance_)), pca.explained_variance_ratio_)\n",
    "plt.show()\n",
    "\"\"\""
   ]
  },
  {
   "cell_type": "code",
   "execution_count": 16,
   "id": "50a88e69-5c93-4393-8f58-2df921b0396a",
   "metadata": {},
   "outputs": [],
   "source": [
    "#logistic = LogisticRegression(solver='lbfgs')"
   ]
  },
  {
   "cell_type": "code",
   "execution_count": 17,
   "id": "1c38de89-4817-46ec-af5a-87dbbb8d35a3",
   "metadata": {},
   "outputs": [
    {
     "data": {
      "text/plain": [
       "\"\\ndt_train = pca.transform(X_train)\\ndt_test = pca.transform(X_test)\\nlogistic.fit(dt_train, y_train)\\n\\nprint('Score PCA: ', logistic.score(dt_test, y_test))\\n\\ndt_train = ipca.transform(X_train)\\ndt_test = ipca.transform(X_test)\\nlogistic.fit(dt_train, y_train)\\n\\nprint('Score iPCA: ', logistic.score(dt_test, y_test))\\n\""
      ]
     },
     "execution_count": 17,
     "metadata": {},
     "output_type": "execute_result"
    }
   ],
   "source": [
    "\"\"\"\n",
    "dt_train = pca.transform(X_train)\n",
    "dt_test = pca.transform(X_test)\n",
    "logistic.fit(dt_train, y_train)\n",
    "\n",
    "print('Score PCA: ', logistic.score(dt_test, y_test))\n",
    "\n",
    "dt_train = ipca.transform(X_train)\n",
    "dt_test = ipca.transform(X_test)\n",
    "logistic.fit(dt_train, y_train)\n",
    "\n",
    "print('Score iPCA: ', logistic.score(dt_test, y_test))\n",
    "\"\"\""
   ]
  },
  {
   "cell_type": "code",
   "execution_count": 20,
   "id": "28851659-97cf-4d1d-9e67-7b99d7bfa039",
   "metadata": {},
   "outputs": [],
   "source": [
    "#From here to bellow we are going to use kernel pca"
   ]
  },
  {
   "cell_type": "code",
   "execution_count": 21,
   "id": "c86c4af4-19f8-454f-b325-0a4257b5f8f2",
   "metadata": {},
   "outputs": [],
   "source": [
    "kpca = KernelPCA(n_components = 4, kernel = 'poly')"
   ]
  },
  {
   "cell_type": "code",
   "execution_count": 22,
   "id": "98986fc3-4c1f-4d3d-9843-33a4bc91c212",
   "metadata": {},
   "outputs": [
    {
     "name": "stdout",
     "output_type": "stream",
     "text": [
      "SCORE KERNELPCA:  0.7987012987012987\n"
     ]
    }
   ],
   "source": [
    "kpca.fit(X_train)\n",
    "\n",
    "dt_train = kpca.transform(X_train)\n",
    "dt_test = kpca.transform(X_test)\n",
    "\n",
    "logistic = LogisticRegression(solver='lbfgs')\n",
    "\n",
    "logistic.fit(dt_train, y_train)\n",
    "\n",
    "print('SCORE KERNELPCA: ', logistic.score(dt_test, y_test))"
   ]
  },
  {
   "cell_type": "code",
   "execution_count": null,
   "id": "5c2bea59-71fe-4c0d-8a46-6bc8ff8ced52",
   "metadata": {},
   "outputs": [],
   "source": []
  }
 ],
 "metadata": {
  "kernelspec": {
   "display_name": "scikikernel",
   "language": "python",
   "name": "scikikernel"
  },
  "language_info": {
   "codemirror_mode": {
    "name": "ipython",
    "version": 3
   },
   "file_extension": ".py",
   "mimetype": "text/x-python",
   "name": "python",
   "nbconvert_exporter": "python",
   "pygments_lexer": "ipython3",
   "version": "3.10.9"
  }
 },
 "nbformat": 4,
 "nbformat_minor": 5
}
