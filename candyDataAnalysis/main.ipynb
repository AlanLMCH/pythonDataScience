{
 "cells": [
  {
   "cell_type": "code",
   "execution_count": 3,
   "id": "3fc60a28-ef02-4606-9807-a420c6ad84b2",
   "metadata": {},
   "outputs": [],
   "source": [
    "from utils import Utils"
   ]
  },
  {
   "cell_type": "code",
   "execution_count": 4,
   "id": "9155540c-410a-45e4-9b88-b82c55251dfd",
   "metadata": {},
   "outputs": [],
   "source": [
    "if __name__ == \"__main__\":\n",
    "    \n",
    "    utils = Utils()\n",
    "    \n",
    "    data = utils.load_from_csv('./data/rawData/felicidad.csv')"
   ]
  },
  {
   "cell_type": "code",
   "execution_count": null,
   "id": "8d6649c6-abff-4f85-9fc4-885cd2270661",
   "metadata": {},
   "outputs": [],
   "source": []
  }
 ],
 "metadata": {
  "kernelspec": {
   "display_name": "scikikernel",
   "language": "python",
   "name": "scikikernel"
  },
  "language_info": {
   "codemirror_mode": {
    "name": "ipython",
    "version": 3
   },
   "file_extension": ".py",
   "mimetype": "text/x-python",
   "name": "python",
   "nbconvert_exporter": "python",
   "pygments_lexer": "ipython3",
   "version": "3.10.9"
  }
 },
 "nbformat": 4,
 "nbformat_minor": 5
}
