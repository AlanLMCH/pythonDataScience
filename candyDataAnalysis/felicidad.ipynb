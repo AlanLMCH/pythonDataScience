{
 "cells": [
  {
   "cell_type": "code",
   "execution_count": 1,
   "id": "3c483d19-314c-42d7-8a50-4697ec05169d",
   "metadata": {},
   "outputs": [],
   "source": [
    "import pandas as pd\n",
    "import sklearn\n",
    "\n",
    "import numpy as np\n",
    "\n",
    "from sklearn.linear_model import LinearRegression\n",
    "from sklearn.linear_model import Lasso\n",
    "from sklearn.linear_model import Ridge\n",
    "from sklearn.linear_model import ElasticNet\n",
    "\n",
    "\n",
    "\n",
    "from sklearn.model_selection import train_test_split\n",
    "from sklearn.metrics import mean_squared_error\n",
    "\n",
    "import matplotlib.pyplot as plt"
   ]
  },
  {
   "cell_type": "code",
   "execution_count": 2,
   "id": "6138f26a-1425-4d95-8361-0cc93a0719c1",
   "metadata": {},
   "outputs": [
    {
     "name": "stdout",
     "output_type": "stream",
     "text": [
      "             rank       score        high         low         gdp      family  \\\n",
      "count  155.000000  155.000000  155.000000  155.000000  155.000000  155.000000   \n",
      "mean    78.000000    5.354019    5.452326    5.255713    0.984718    1.188898   \n",
      "std     44.888751    1.131230    1.118542    1.145030    0.420793    0.287263   \n",
      "min      1.000000    2.693000    2.864884    2.521116    0.000000    0.000000   \n",
      "25%     39.500000    4.505500    4.608172    4.374955    0.663371    1.042635   \n",
      "50%     78.000000    5.279000    5.370032    5.193152    1.064578    1.253918   \n",
      "75%    116.500000    6.101500    6.194600    6.006527    1.318027    1.414316   \n",
      "max    155.000000    7.537000    7.622030    7.479556    1.870766    1.610574   \n",
      "\n",
      "           lifexp     freedom  generosity  corruption    dystopia  \n",
      "count  155.000000  155.000000  155.000000  155.000000  155.000000  \n",
      "mean     0.551341    0.408786    0.246883    0.123120    1.850238  \n",
      "std      0.237073    0.149997    0.134780    0.101661    0.500028  \n",
      "min      0.000000    0.000000    0.000000    0.000000    0.377914  \n",
      "25%      0.369866    0.303677    0.154106    0.057271    1.591291  \n",
      "50%      0.606042    0.437454    0.231538    0.089848    1.832910  \n",
      "75%      0.723008    0.516561    0.323762    0.153296    2.144654  \n",
      "max      0.949492    0.658249    0.838075    0.464308    3.117485  \n"
     ]
    }
   ],
   "source": [
    "if __name__ == '__main__':\n",
    "    dataset = pd.read_csv('./data/rawData/felicidad.csv')\n",
    "    print(dataset.describe())"
   ]
  },
  {
   "cell_type": "code",
   "execution_count": 3,
   "id": "7ab88a92-7dcb-47fe-81ec-2e3508bafa50",
   "metadata": {},
   "outputs": [
    {
     "name": "stdout",
     "output_type": "stream",
     "text": [
      "(155, 7)\n",
      "(155, 1)\n"
     ]
    }
   ],
   "source": [
    "x = dataset[['gdp', 'family', 'lifexp', 'freedom', 'corruption', 'generosity', 'dystopia']]\n",
    "y = dataset[['score']]\n",
    "\n",
    "print(x.shape)\n",
    "print(y.shape)"
   ]
  },
  {
   "cell_type": "code",
   "execution_count": 4,
   "id": "af0032b6-3fe3-47fc-bfb7-715e3556b79d",
   "metadata": {},
   "outputs": [],
   "source": [
    "X_train, X_test, y_train, y_test = train_test_split(x, y, test_size = 0.25)"
   ]
  },
  {
   "cell_type": "code",
   "execution_count": 5,
   "id": "6f3a296a-30ad-4340-bb20-b394bdf5fb5b",
   "metadata": {},
   "outputs": [
    {
     "name": "stdout",
     "output_type": "stream",
     "text": [
      "Linear Loss: 1.0258312503429065e-07\n",
      "Lasso Loss: 0.09102565288866861\n",
      "Ridge Loss: 0.012351698471630793\n"
     ]
    }
   ],
   "source": [
    "modelLinear = LinearRegression().fit(X_train, y_train)\n",
    "\n",
    "y_predict_linear = modelLinear.predict(X_test)\n",
    "\n",
    "modelLasso = Lasso(alpha=0.02).fit(X_train, y_train)\n",
    "\n",
    "y_predict_lasso = modelLasso.predict(X_test)\n",
    "\n",
    "modelRidge = Ridge(alpha=1).fit(X_train, y_train)\n",
    "\n",
    "y_predict_ridge = modelRidge.predict(X_test)\n",
    "\n",
    "linear_loss = mean_squared_error(y_test, y_predict_linear)\n",
    "\n",
    "print('Linear Loss:', linear_loss)\n",
    "\n",
    "lasso_loss = mean_squared_error(y_test, y_predict_lasso)\n",
    "\n",
    "print('Lasso Loss:', lasso_loss)\n",
    "\n",
    "ridge_loss = mean_squared_error(y_test, y_predict_ridge)\n",
    "\n",
    "print('Ridge Loss:', ridge_loss)\n"
   ]
  },
  {
   "cell_type": "code",
   "execution_count": 8,
   "id": "15e805ef-7f19-4493-bda0-aa97959125b0",
   "metadata": {},
   "outputs": [
    {
     "name": "stdout",
     "output_type": "stream",
     "text": [
      "Linear Coef\n",
      "[[1.00000637 0.99988946 1.00006468 1.00007267 1.00000875 1.00007761\n",
      "  0.99997318]]\n",
      "Coef Lasso\n",
      "[1.32631108 0.81308157 0.49107475 0.72792102 0.         0.04633982\n",
      " 0.88149314]\n",
      "================================================================\n",
      "Coef Ridge\n",
      "[[1.09157461 0.93206564 0.86273242 0.88957397 0.54830302 0.72533212\n",
      "  0.95300529]]\n"
     ]
    }
   ],
   "source": [
    "print(\"Linear Coef\")\n",
    "print(f\"{modelLinear.coef_}\")\n",
    "print(\"Coef Lasso\")\n",
    "print(f\"{modelLasso.coef_}\")\n",
    "print('=='*32)\n",
    "print('Coef Ridge')\n",
    "print(f\"{modelRidge.coef_}\")"
   ]
  },
  {
   "cell_type": "code",
   "execution_count": 7,
   "id": "270490fc-ac7f-4d75-8666-2130b1f31670",
   "metadata": {},
   "outputs": [
    {
     "name": "stdout",
     "output_type": "stream",
     "text": [
      "ElasticNet Loss:  1.4307915933591668\n",
      "Coef Elastic:  [0. 0. 0. 0. 0. 0. 0.]\n"
     ]
    }
   ],
   "source": [
    "\n",
    "modelElasticNet = ElasticNet(random_state=0).fit(X_train, y_train)\n",
    "\n",
    "y_pred_elastic = modelElasticNet.predict(X_test)\n",
    "\n",
    "elastic_loss = mean_squared_error(y_test, y_pred_elastic)\n",
    "\n",
    "print('ElasticNet Loss: ', elastic_loss)\n",
    "\n",
    "print(\"Coef Elastic: \", modelElasticNet.coef_)"
   ]
  },
  {
   "cell_type": "code",
   "execution_count": null,
   "id": "e45602d3-0d8d-4158-85c2-34047b6a69f5",
   "metadata": {},
   "outputs": [],
   "source": []
  }
 ],
 "metadata": {
  "kernelspec": {
   "display_name": "scikikernel",
   "language": "python",
   "name": "scikikernel"
  },
  "language_info": {
   "codemirror_mode": {
    "name": "ipython",
    "version": 3
   },
   "file_extension": ".py",
   "mimetype": "text/x-python",
   "name": "python",
   "nbconvert_exporter": "python",
   "pygments_lexer": "ipython3",
   "version": "3.10.9"
  }
 },
 "nbformat": 4,
 "nbformat_minor": 5
}
