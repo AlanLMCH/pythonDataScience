{
 "cells": [
  {
   "cell_type": "code",
   "execution_count": 1,
   "id": "6bd9ddb9-92c7-4dcf-a015-5928dbf2955b",
   "metadata": {},
   "outputs": [],
   "source": [
    "import numpy as np\n",
    "import tensorflow as tf"
   ]
  },
  {
   "cell_type": "code",
   "execution_count": 2,
   "id": "a07ca334-fac3-4482-a919-3b5ba224bf70",
   "metadata": {},
   "outputs": [
    {
     "name": "stderr",
     "output_type": "stream",
     "text": [
      "C:\\Users\\alan_\\AppData\\Local\\Temp\\ipykernel_20424\\656736103.py:3: DeprecationWarning: `np.float` is a deprecated alias for the builtin `float`. To silence this warning, use `float` by itself. Doing this will not modify any behavior and is safe. If you specifically wanted the numpy scalar type, use `np.float64` here.\n",
      "Deprecated in NumPy 1.20; for more details and guidance: https://numpy.org/devdocs/release/1.20.0-notes.html#deprecations\n",
      "  train_inputs = npz['inputs'].astype(np.float)\n",
      "C:\\Users\\alan_\\AppData\\Local\\Temp\\ipykernel_20424\\656736103.py:4: DeprecationWarning: `np.int` is a deprecated alias for the builtin `int`. To silence this warning, use `int` by itself. Doing this will not modify any behavior and is safe. When replacing `np.int`, you may wish to use e.g. `np.int64` or `np.int32` to specify the precision. If you wish to review your current use, check the release note link for additional information.\n",
      "Deprecated in NumPy 1.20; for more details and guidance: https://numpy.org/devdocs/release/1.20.0-notes.html#deprecations\n",
      "  train_targets = npz['targets'].astype(np.int)\n",
      "C:\\Users\\alan_\\AppData\\Local\\Temp\\ipykernel_20424\\656736103.py:7: DeprecationWarning: `np.float` is a deprecated alias for the builtin `float`. To silence this warning, use `float` by itself. Doing this will not modify any behavior and is safe. If you specifically wanted the numpy scalar type, use `np.float64` here.\n",
      "Deprecated in NumPy 1.20; for more details and guidance: https://numpy.org/devdocs/release/1.20.0-notes.html#deprecations\n",
      "  validation_inputs, validation_targets = npz['inputs'].astype(np.float), npz['targets'].astype(np.int)\n",
      "C:\\Users\\alan_\\AppData\\Local\\Temp\\ipykernel_20424\\656736103.py:7: DeprecationWarning: `np.int` is a deprecated alias for the builtin `int`. To silence this warning, use `int` by itself. Doing this will not modify any behavior and is safe. When replacing `np.int`, you may wish to use e.g. `np.int64` or `np.int32` to specify the precision. If you wish to review your current use, check the release note link for additional information.\n",
      "Deprecated in NumPy 1.20; for more details and guidance: https://numpy.org/devdocs/release/1.20.0-notes.html#deprecations\n",
      "  validation_inputs, validation_targets = npz['inputs'].astype(np.float), npz['targets'].astype(np.int)\n",
      "C:\\Users\\alan_\\AppData\\Local\\Temp\\ipykernel_20424\\656736103.py:11: DeprecationWarning: `np.float` is a deprecated alias for the builtin `float`. To silence this warning, use `float` by itself. Doing this will not modify any behavior and is safe. If you specifically wanted the numpy scalar type, use `np.float64` here.\n",
      "Deprecated in NumPy 1.20; for more details and guidance: https://numpy.org/devdocs/release/1.20.0-notes.html#deprecations\n",
      "  test_inputs, test_targets = npz['inputs'].astype(np.float), npz['targets'].astype(np.int)\n",
      "C:\\Users\\alan_\\AppData\\Local\\Temp\\ipykernel_20424\\656736103.py:11: DeprecationWarning: `np.int` is a deprecated alias for the builtin `int`. To silence this warning, use `int` by itself. Doing this will not modify any behavior and is safe. When replacing `np.int`, you may wish to use e.g. `np.int64` or `np.int32` to specify the precision. If you wish to review your current use, check the release note link for additional information.\n",
      "Deprecated in NumPy 1.20; for more details and guidance: https://numpy.org/devdocs/release/1.20.0-notes.html#deprecations\n",
      "  test_inputs, test_targets = npz['inputs'].astype(np.float), npz['targets'].astype(np.int)\n"
     ]
    }
   ],
   "source": [
    "npz = np.load('../preProcess/Audiobooks_data_train.npz')\n",
    "\n",
    "train_inputs = npz['inputs'].astype(np.float)\n",
    "train_targets = npz['targets'].astype(np.int)\n",
    "\n",
    "npz = np.load('../preProcess/Audiobooks_data_validation.npz')\n",
    "validation_inputs, validation_targets = npz['inputs'].astype(np.float), npz['targets'].astype(np.int)\n",
    "\n",
    "\n",
    "npz = np.load('../preProcess/Audiobooks_data_test.npz')\n",
    "test_inputs, test_targets = npz['inputs'].astype(np.float), npz['targets'].astype(np.int)\n"
   ]
  },
  {
   "cell_type": "markdown",
   "id": "b7d54a9d-6fd6-4264-883b-ab2d33bafde6",
   "metadata": {},
   "source": [
    "## Model\n",
    "\n",
    "Outline, optimizers, loss, early stopping and training\n"
   ]
  },
  {
   "cell_type": "code",
   "execution_count": 10,
   "id": "4da7df90-9bf5-47ea-99f2-fd7c8988aa41",
   "metadata": {},
   "outputs": [
    {
     "name": "stdout",
     "output_type": "stream",
     "text": [
      "Epoch 1/100\n",
      "36/36 - 0s - loss: 0.6171 - accuracy: 0.6720 - val_loss: 0.5211 - val_accuracy: 0.7450 - 476ms/epoch - 13ms/step\n",
      "Epoch 2/100\n",
      "36/36 - 0s - loss: 0.4721 - accuracy: 0.7622 - val_loss: 0.4568 - val_accuracy: 0.7517 - 78ms/epoch - 2ms/step\n",
      "Epoch 3/100\n",
      "36/36 - 0s - loss: 0.4242 - accuracy: 0.7768 - val_loss: 0.4287 - val_accuracy: 0.7740 - 73ms/epoch - 2ms/step\n",
      "Epoch 4/100\n",
      "36/36 - 0s - loss: 0.3979 - accuracy: 0.7930 - val_loss: 0.4101 - val_accuracy: 0.8054 - 77ms/epoch - 2ms/step\n",
      "Epoch 5/100\n",
      "36/36 - 0s - loss: 0.3856 - accuracy: 0.7974 - val_loss: 0.4020 - val_accuracy: 0.7875 - 73ms/epoch - 2ms/step\n",
      "Epoch 6/100\n",
      "36/36 - 0s - loss: 0.3759 - accuracy: 0.8039 - val_loss: 0.3950 - val_accuracy: 0.7942 - 74ms/epoch - 2ms/step\n",
      "Epoch 7/100\n",
      "36/36 - 0s - loss: 0.3679 - accuracy: 0.8080 - val_loss: 0.3894 - val_accuracy: 0.7919 - 72ms/epoch - 2ms/step\n",
      "Epoch 8/100\n",
      "36/36 - 0s - loss: 0.3642 - accuracy: 0.8055 - val_loss: 0.3893 - val_accuracy: 0.7987 - 78ms/epoch - 2ms/step\n",
      "Epoch 9/100\n",
      "36/36 - 0s - loss: 0.3626 - accuracy: 0.8114 - val_loss: 0.3823 - val_accuracy: 0.7987 - 89ms/epoch - 2ms/step\n",
      "Epoch 10/100\n",
      "36/36 - 0s - loss: 0.3606 - accuracy: 0.8072 - val_loss: 0.3828 - val_accuracy: 0.7897 - 84ms/epoch - 2ms/step\n",
      "Epoch 11/100\n",
      "36/36 - 0s - loss: 0.3560 - accuracy: 0.8156 - val_loss: 0.3824 - val_accuracy: 0.7919 - 73ms/epoch - 2ms/step\n"
     ]
    },
    {
     "data": {
      "text/plain": [
       "<keras.callbacks.History at 0x24187f82200>"
      ]
     },
     "execution_count": 10,
     "metadata": {},
     "output_type": "execute_result"
    }
   ],
   "source": [
    "input_size = 10\n",
    "output_size = 2\n",
    "hidden_layer_size = 50\n",
    "\n",
    "model = tf.keras.Sequential([    \n",
    "                            tf.keras.layers.Dense(hidden_layer_size, activation='relu'), \n",
    "                            tf.keras.layers.Dense(hidden_layer_size, activation='relu'), \n",
    "                            tf.keras.layers.Dense(output_size, activation='softmax')\n",
    "                            ])\n",
    "model.compile(optimizer='adam', loss='sparse_categorical_crossentropy', metrics=['accuracy'])\n",
    "\n",
    "batch_size = 100\n",
    "\n",
    "max_epochs = 100\n",
    "\n",
    "early_stopping = tf.keras.callbacks.EarlyStopping(patience=2)\n",
    "\n",
    "model.fit(train_inputs,\n",
    "          train_targets,\n",
    "          batch_size = batch_size,\n",
    "          epochs = max_epochs,\n",
    "          callbacks = [early_stopping],\n",
    "          validation_data = (validation_inputs, validation_targets),\n",
    "          verbose = 2\n",
    "         )"
   ]
  },
  {
   "cell_type": "markdown",
   "id": "5e0df0d4-8022-44e1-9613-2f270ea1e292",
   "metadata": {},
   "source": [
    "## Testing the model"
   ]
  },
  {
   "cell_type": "code",
   "execution_count": 11,
   "id": "e52a56a3-c4b2-4de9-a3b5-5a7b4132125a",
   "metadata": {},
   "outputs": [
    {
     "name": "stdout",
     "output_type": "stream",
     "text": [
      "14/14 [==============================] - 0s 1ms/step - loss: 0.3817 - accuracy: 0.8080\n"
     ]
    }
   ],
   "source": [
    "test_loss, test_accuracy = model.evaluate(test_inputs, test_targets)"
   ]
  },
  {
   "cell_type": "code",
   "execution_count": 12,
   "id": "64521db7-705b-4146-b196-e16df5a8fc86",
   "metadata": {},
   "outputs": [
    {
     "name": "stdout",
     "output_type": "stream",
     "text": [
      "\n",
      "Test loss:0.38. Test accuracy: 80.80%\n"
     ]
    }
   ],
   "source": [
    "print('\\nTest loss:{0:.2f}. Test accuracy: {1:.2f}%'.format(test_loss, test_accuracy*100))"
   ]
  },
  {
   "cell_type": "code",
   "execution_count": null,
   "id": "f616eb8c-8da6-49ce-b8f3-b1fea257dc16",
   "metadata": {},
   "outputs": [],
   "source": []
  }
 ],
 "metadata": {
  "kernelspec": {
   "display_name": "Python 3 (ipykernel)",
   "language": "python",
   "name": "python3"
  },
  "language_info": {
   "codemirror_mode": {
    "name": "ipython",
    "version": 3
   },
   "file_extension": ".py",
   "mimetype": "text/x-python",
   "name": "python",
   "nbconvert_exporter": "python",
   "pygments_lexer": "ipython3",
   "version": "3.10.2"
  }
 },
 "nbformat": 4,
 "nbformat_minor": 5
}
