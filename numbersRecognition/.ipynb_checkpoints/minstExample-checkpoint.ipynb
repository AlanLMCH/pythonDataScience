{
 "cells": [
  {
   "cell_type": "code",
   "execution_count": 1,
   "id": "0d6a5ef5-8b3d-41d5-a94f-920fa769d801",
   "metadata": {},
   "outputs": [],
   "source": [
    "import numpy as np\n",
    "import tensorflow as tf\n",
    "\n",
    "import tensorflow_datasets as tfds\n"
   ]
  },
  {
   "cell_type": "code",
   "execution_count": 2,
   "id": "5613af90-6cb2-44ae-874d-3c6fd98b2a29",
   "metadata": {},
   "outputs": [],
   "source": [
    "mnist_dataset, mnist_info = tfds.load(name = 'mnist', with_info=True, as_supervised=True)"
   ]
  },
  {
   "cell_type": "code",
   "execution_count": 3,
   "id": "3a0531bb-28c9-479d-9670-770324d76735",
   "metadata": {},
   "outputs": [],
   "source": [
    "mnist_train, mnist_test = mnist_dataset['train'], mnist_dataset['test']\n",
    "\n",
    "num_validation_samples = 0.1 * mnist_info.splits['train'].num_examples\n",
    "num_validation_samples = tf.cast(num_validation_samples, tf.int64)\n",
    "\n",
    "num_test_samples = mnist_info.splits['test'].num_examples\n",
    "num_test_samples = tf.cast(num_test_samples, tf.int64)\n",
    "\n",
    "def scale(image, label):\n",
    "    image = tf.cast(image, tf.float32)\n",
    "    image /= 255.\n",
    "    return image, label\n",
    "\n",
    "scaled_train_and_validation_data = mnist_train.map(scale)\n",
    "\n",
    "test_data = mnist_test.map(scale)\n"
   ]
  },
  {
   "cell_type": "code",
   "execution_count": 4,
   "id": "2849a168-5131-4318-bb45-0e4db8f5c3a1",
   "metadata": {},
   "outputs": [],
   "source": [
    "BUFFER_SIZE = 10000\n",
    "shuffled_train_and_validation_data = scaled_train_and_validation_data.shuffle(BUFFER_SIZE)\n",
    "\n",
    "validation_data = shuffled_train_and_validation_data.take(num_validation_samples)\n",
    "train_data = shuffled_train_and_validation_data.skip(num_validation_samples)\n",
    "\n",
    "BATCH_SIZE = 150\n",
    "\n",
    "train_data = train_data.batch(BATCH_SIZE)\n",
    "\n",
    "validation_data = validation_data.batch(num_validation_samples)\n",
    "\n",
    "test_data = test_data.batch(num_test_samples)\n",
    "\n",
    "validation_inputs, validation_targets = next(iter(validation_data))"
   ]
  },
  {
   "cell_type": "markdown",
   "id": "57f5c27c-89f1-4682-ae7f-bf507d6ca646",
   "metadata": {},
   "source": [
    "## Model"
   ]
  },
  {
   "cell_type": "markdown",
   "id": "e273450a-8eb7-4f6a-b52e-e462120711a4",
   "metadata": {},
   "source": [
    "### Outline the model"
   ]
  },
  {
   "cell_type": "code",
   "execution_count": 5,
   "id": "bfe31442-4f06-43f2-9797-23c3ab2fc4bd",
   "metadata": {},
   "outputs": [],
   "source": [
    "input_size = 784\n",
    "output_size = 10\n",
    "hidden_layer_size = 500\n",
    "\n",
    "model = tf.keras.Sequential([    \n",
    "                            tf.keras.layers.Flatten(input_shape=(28, 28, 1)),\n",
    "                            tf.keras.layers.Dense(hidden_layer_size, activation='relu'), \n",
    "                            tf.keras.layers.Dense(hidden_layer_size, activation='relu'), \n",
    "                            tf.keras.layers.Dense(hidden_layer_size, activation='relu'),\n",
    "                            tf.keras.layers.Dense(hidden_layer_size, activation='relu'), \n",
    "                            tf.keras.layers.Dense(hidden_layer_size, activation='relu'), \n",
    "                            tf.keras.layers.Dense(hidden_layer_size, activation='relu'), \n",
    "                            tf.keras.layers.Dense(hidden_layer_size, activation='relu'), \n",
    "                            tf.keras.layers.Dense(hidden_layer_size, activation='relu'), \n",
    "                            tf.keras.layers.Dense(hidden_layer_size, activation='relu'), \n",
    "                            tf.keras.layers.Dense(hidden_layer_size, activation='relu'), \n",
    "                            tf.keras.layers.Dense(output_size, activation='softmax')\n",
    "                            ])"
   ]
  },
  {
   "cell_type": "markdown",
   "id": "e4fafab7-55ef-4954-aa74-6575c7463569",
   "metadata": {},
   "source": [
    "### Choose the optimizer and the loss function"
   ]
  },
  {
   "cell_type": "code",
   "execution_count": 6,
   "id": "07d96a92-e3e9-4ab0-8861-49f9e63d20a8",
   "metadata": {},
   "outputs": [],
   "source": [
    "model.compile(optimizer='adam', loss='sparse_categorical_crossentropy', metrics=['accuracy'])"
   ]
  },
  {
   "cell_type": "markdown",
   "id": "699a8837-73c6-452d-977e-c085e49de040",
   "metadata": {},
   "source": [
    "### Training"
   ]
  },
  {
   "cell_type": "code",
   "execution_count": 7,
   "id": "1e38e8a6-ac00-412f-9b3c-b3f6cdd4a123",
   "metadata": {},
   "outputs": [
    {
     "name": "stdout",
     "output_type": "stream",
     "text": [
      "Epoch 1/5\n",
      "360/360 - 5s - loss: 0.3426 - accuracy: 0.8951 - val_loss: 0.1688 - val_accuracy: 0.9537 - 5s/epoch - 15ms/step\n",
      "Epoch 2/5\n",
      "360/360 - 5s - loss: 0.1373 - accuracy: 0.9645 - val_loss: 0.1300 - val_accuracy: 0.9680 - 5s/epoch - 13ms/step\n",
      "Epoch 3/5\n",
      "360/360 - 5s - loss: 0.1055 - accuracy: 0.9735 - val_loss: 0.1033 - val_accuracy: 0.9755 - 5s/epoch - 14ms/step\n",
      "Epoch 4/5\n",
      "360/360 - 4s - loss: 0.0886 - accuracy: 0.9774 - val_loss: 0.1009 - val_accuracy: 0.9728 - 4s/epoch - 12ms/step\n",
      "Epoch 5/5\n",
      "360/360 - 5s - loss: 0.0698 - accuracy: 0.9818 - val_loss: 0.0687 - val_accuracy: 0.9827 - 5s/epoch - 13ms/step\n"
     ]
    },
    {
     "data": {
      "text/plain": [
       "<keras.callbacks.History at 0x205e334e0b0>"
      ]
     },
     "execution_count": 7,
     "metadata": {},
     "output_type": "execute_result"
    }
   ],
   "source": [
    "NUM_EPOCHS = 5\n",
    "\n",
    "model.fit(train_data, epochs=NUM_EPOCHS, validation_data=(validation_inputs, validation_targets), verbose =2)"
   ]
  },
  {
   "cell_type": "markdown",
   "id": "46719238-d098-4426-bd2f-d084d4a48633",
   "metadata": {},
   "source": [
    "## Test the model"
   ]
  },
  {
   "cell_type": "code",
   "execution_count": 8,
   "id": "d290514a-7431-4a2a-adb9-4ce130210083",
   "metadata": {},
   "outputs": [
    {
     "name": "stdout",
     "output_type": "stream",
     "text": [
      "1/1 [==============================] - 0s 357ms/step - loss: 0.0938 - accuracy: 0.9780\n"
     ]
    }
   ],
   "source": [
    "test_loss, test_accuracy = model.evaluate(test_data)"
   ]
  },
  {
   "cell_type": "code",
   "execution_count": 9,
   "id": "9cbf65ba-6580-4ff0-ae73-18a0b54a2419",
   "metadata": {},
   "outputs": [
    {
     "name": "stdout",
     "output_type": "stream",
     "text": [
      "Test loss: 0.09. Test accuracy: 97.80%\n"
     ]
    }
   ],
   "source": [
    "print('Test loss: {0:.2f}. Test accuracy: {1:.2f}%'.format(test_loss, test_accuracy*100.))"
   ]
  },
  {
   "cell_type": "markdown",
   "id": "d9fef760-4df0-439d-ad06-cc056c51a22f",
   "metadata": {},
   "source": [
    "## Importing an image ato execute the model\n"
   ]
  },
  {
   "cell_type": "code",
   "execution_count": 27,
   "id": "59aeed64-a38c-4de5-a42a-c2de7551f7dd",
   "metadata": {},
   "outputs": [
    {
     "data": {
      "image/png": "[encoded data removed]",
      "text/plain": [
       "<PIL.Image.Image image mode=L size=28x28>"
      ]
     },
     "execution_count": 27,
     "metadata": {},
     "output_type": "execute_result"
    }
   ],
   "source": [
    "import matplotlib.pyplot as plt\n",
    "from tensorflow.keras.preprocessing import image\n",
    " \n",
    "image_path=\"./data/images/0.png\"\n",
    "im = image.load_img(image_path, target_size=(28, 28), color_mode = \"grayscale\")\n",
    "img = image.img_to_array(im)\n",
    "img = tf.expand_dims(img, axis=0)      \n",
    "img = img/255.\n",
    "#img = scale(img, '')[0]\n",
    "im\n",
    "#predict_x=model.predict(img)[0]\n",
    "\n",
    "#for x,y in mnist_dataset['train']:\n",
    "#    print(x,y)\n",
    "\n"
   ]
  },
  {
   "cell_type": "code",
   "execution_count": 28,
   "id": "d28af7c0-5904-4cfa-9935-db2086c19276",
   "metadata": {},
   "outputs": [
    {
     "name": "stdout",
     "output_type": "stream",
     "text": [
      "1/1 [==============================] - 0s 25ms/step\n",
      "1/1 [==============================] - 0s 21ms/step\n"
     ]
    },
    {
     "data": {
      "text/plain": [
       "0"
      ]
     },
     "execution_count": 28,
     "metadata": {},
     "output_type": "execute_result"
    }
   ],
   "source": [
    "prediction_indexes=model.predict(img)\n",
    "np.argmax(prediction_indexes, axis=1)[0]\n",
    "preds = model.predict(img)[0]\n",
    "labels = [0,1,2,3,4,5,6,7,8,9]\n",
    "labels[np.argmax(preds)]"
   ]
  },
  {
   "cell_type": "code",
   "execution_count": null,
   "id": "6138b1b0-168c-4a8f-a673-0b12ec4cebe6",
   "metadata": {},
   "outputs": [],
   "source": []
  },
  {
   "cell_type": "code",
   "execution_count": null,
   "id": "7136e316-6fb5-446c-b6a2-3825317513d6",
   "metadata": {},
   "outputs": [],
   "source": []
  }
 ],
 "metadata": {
  "kernelspec": {
   "display_name": "Python 3 (ipykernel)",
   "language": "python",
   "name": "python3"
  },
  "language_info": {
   "codemirror_mode": {
    "name": "ipython",
    "version": 3
   },
   "file_extension": ".py",
   "mimetype": "text/x-python",
   "name": "python",
   "nbconvert_exporter": "python",
   "pygments_lexer": "ipython3",
   "version": "3.10.9"
  }
 },
 "nbformat": 4,
 "nbformat_minor": 5
}
